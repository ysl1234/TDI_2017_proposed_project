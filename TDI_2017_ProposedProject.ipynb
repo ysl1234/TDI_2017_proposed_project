{
 "cells": [
  {
   "cell_type": "code",
   "execution_count": 3,
   "metadata": {
    "collapsed": true
   },
   "outputs": [],
   "source": [
    "###  This code is to generate pandas DataFrame from xml files\n",
    "\n",
    "import xml.etree.ElementTree as ET\n",
    "import pandas as pd\n",
    "import matplotlib.pyplot as plt\n",
    "import numpy as np\n",
    "import re\n",
    "\n",
    "path='C:\\\\Users\\\\lin8\\\\Documents\\\\Stackoverflow_DataDump_2017\\\\'\n",
    "with open(path+'Users.xml') as f:\n",
    "   lines = f.readlines()\n",
    "\n",
    "### -------------------------------------------------------------------------------- p\n",
    "##  This is useful for future use; this competely unfold the file to sets of dicts\n",
    "def trim_data(data):\n",
    "    \"this trim one line from xml file to useful list\"\n",
    "    datas = re.findall(r'\\w+=\"[^\"]+\"',data)\n",
    "    out={}\n",
    "    for row in datas:\n",
    "#        print row \n",
    "        x = re.split('=\"',row)\n",
    "        x[1] = x[1][:-1]\n",
    "        key = x[0]\n",
    "        out[key] = x[1] \n",
    "#        print out\n",
    "    return out\n",
    "### -------------------------------------------------------------------------------- p\n",
    "\n",
    "def get_dict(data, items):\n",
    "    \"to extract items from data, save into a dict\"\n",
    "    out={}\n",
    "    for item in items:\n",
    "        match = re.search(item+'=\"\\S+\"',data)\n",
    "        if match: \n",
    "            value = re.split('=\"',match.group())[1][:-1]\n",
    "        else:\n",
    "            value = 'nan'\n",
    "        out[item] = value\n",
    "    return out \n",
    "\n",
    "ToExtract=['Reputation','CreationDate','LastAccessDate','Views','UpVotes','DownVotes','Age','AccountId']\n",
    "\n",
    "datas=[]\n",
    "for n in range(4,7000000,30): \n",
    "## because computational resource available, only analyze every other 30 data\n",
    "## data was sorted in acsending order in creation date.\n",
    "    dict_data = get_dict(lines[n], ToExtract)\n",
    "    datas.append(dict_data) \n",
    "df = pd.DataFrame(datas)\n",
    "\n",
    "x=df.Age.value_counts().to_dict()\n",
    "df.to_pickle('TDI_2017_stackoverflow_users_df.pkl')"
   ]
  }
 ],
 "metadata": {
  "kernelspec": {
   "display_name": "Python 2",
   "language": "python",
   "name": "python2"
  },
  "language_info": {
   "codemirror_mode": {
    "name": "ipython",
    "version": 2
   },
   "file_extension": ".py",
   "mimetype": "text/x-python",
   "name": "python",
   "nbconvert_exporter": "python",
   "pygments_lexer": "ipython2",
   "version": "2.7.13"
  }
 },
 "nbformat": 4,
 "nbformat_minor": 2
}
